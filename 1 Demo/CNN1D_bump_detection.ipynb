{
  "nbformat": 4,
  "nbformat_minor": 0,
  "metadata": {
    "colab": {
      "name": "CNN1D_Practice.ipynb",
      "provenance": []
    },
    "kernelspec": {
      "name": "python3",
      "display_name": "Python 3"
    }
  },
  "cells": [
    {
      "cell_type": "code",
      "metadata": {
        "id": "xSgfk4I5949t"
      },
      "source": [
        "import numpy as np\r\n",
        "from numpy import asarray\r\n",
        "import pandas as pd \r\n",
        "import tensorflow as tf\r\n",
        "from keras.models import Sequential\r\n",
        "from keras.layers import Conv1D\r\n"
      ],
      "execution_count": 35,
      "outputs": []
    },
    {
      "cell_type": "markdown",
      "metadata": {
        "id": "lbo-1UMo-Agv"
      },
      "source": [
        "# **The input Data**"
      ]
    },
    {
      "cell_type": "code",
      "metadata": {
        "colab": {
          "base_uri": "https://localhost:8080/"
        },
        "id": "qzcMr9Y0-IeH",
        "outputId": "b7318554-e4d9-41df-b0b0-f43aa378ae46"
      },
      "source": [
        "data= asarray([0,0,0,1,1,0,0,0])\r\n",
        "data"
      ],
      "execution_count": 36,
      "outputs": [
        {
          "output_type": "execute_result",
          "data": {
            "text/plain": [
              "array([0, 0, 0, 1, 1, 0, 0, 0])"
            ]
          },
          "metadata": {
            "tags": []
          },
          "execution_count": 36
        }
      ]
    },
    {
      "cell_type": "markdown",
      "metadata": {
        "id": "qilk1nJ9-2w3"
      },
      "source": [
        "# **Reshaping**"
      ]
    },
    {
      "cell_type": "code",
      "metadata": {
        "id": "qcU-X4Aw-W6v"
      },
      "source": [
        "data = data.reshape(1,8,1)\r\n"
      ],
      "execution_count": 37,
      "outputs": []
    },
    {
      "cell_type": "markdown",
      "metadata": {
        "id": "dY2CFPcm_D_X"
      },
      "source": [
        "# **Model**"
      ]
    },
    {
      "cell_type": "code",
      "metadata": {
        "id": "WHfMtCCM_ARm"
      },
      "source": [
        "model=Sequential()"
      ],
      "execution_count": 38,
      "outputs": []
    },
    {
      "cell_type": "markdown",
      "metadata": {
        "id": "2RBg-mUL_jEu"
      },
      "source": [
        "# **Adding a Convalution Layer**"
      ]
    },
    {
      "cell_type": "code",
      "metadata": {
        "id": "vVHA0dnh_M7G"
      },
      "source": [
        "model.add(Conv1D(1,3 , input_shape=(8,1)))"
      ],
      "execution_count": 39,
      "outputs": []
    },
    {
      "cell_type": "markdown",
      "metadata": {
        "id": "jJIKMyYuBdEB"
      },
      "source": [
        "# **Defining weights**"
      ]
    },
    {
      "cell_type": "code",
      "metadata": {
        "id": "9c0nuKuV_5CN"
      },
      "source": [
        "wieghts=[asarray([[[0]],[[1]],[[0]]]), np.array([0.0])]"
      ],
      "execution_count": 40,
      "outputs": []
    },
    {
      "cell_type": "markdown",
      "metadata": {
        "id": "i2ouP2Y0Bk_j"
      },
      "source": [
        "# **Setting the wieghts in models**"
      ]
    },
    {
      "cell_type": "markdown",
      "metadata": {
        "id": "4ZFgzZjDBk2F"
      },
      "source": [
        ""
      ]
    },
    {
      "cell_type": "code",
      "metadata": {
        "id": "fFeHgYbbBbLP"
      },
      "source": [
        "model.set_weights(wieghts)"
      ],
      "execution_count": 41,
      "outputs": []
    },
    {
      "cell_type": "markdown",
      "metadata": {
        "id": "za77mMn1B_Im"
      },
      "source": [
        "# **Conforming weights are stored or not**"
      ]
    },
    {
      "cell_type": "code",
      "metadata": {
        "colab": {
          "base_uri": "https://localhost:8080/"
        },
        "id": "8Ij18eIbB1U_",
        "outputId": "031e18a1-bde9-4bce-de30-824c57c5ce8b"
      },
      "source": [
        "print(model.get_weights())"
      ],
      "execution_count": 42,
      "outputs": [
        {
          "output_type": "stream",
          "text": [
            "[array([[[0.]],\n",
            "\n",
            "       [[1.]],\n",
            "\n",
            "       [[0.]]], dtype=float32), array([0.], dtype=float32)]\n"
          ],
          "name": "stdout"
        }
      ]
    },
    {
      "cell_type": "markdown",
      "metadata": {
        "id": "n3_3VJuLCfat"
      },
      "source": [
        "# Now Applying the filters to input data"
      ]
    },
    {
      "cell_type": "code",
      "metadata": {
        "colab": {
          "base_uri": "https://localhost:8080/"
        },
        "id": "32jQivfVCQkW",
        "outputId": "c8d172f7-0ba1-4072-e805-8ba8e6344550"
      },
      "source": [
        "filtering=model.predict(data)\r\n",
        "print(filtering)"
      ],
      "execution_count": 43,
      "outputs": [
        {
          "output_type": "stream",
          "text": [
            "[[[0.]\n",
            "  [0.]\n",
            "  [1.]\n",
            "  [1.]\n",
            "  [0.]\n",
            "  [0.]]]\n"
          ],
          "name": "stdout"
        }
      ]
    },
    {
      "cell_type": "code",
      "metadata": {
        "id": "2FSHg9HCDQWf"
      },
      "source": [
        ""
      ],
      "execution_count": null,
      "outputs": []
    }
  ]
}