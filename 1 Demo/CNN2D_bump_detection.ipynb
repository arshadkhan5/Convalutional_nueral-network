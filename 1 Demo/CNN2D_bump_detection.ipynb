{
  "nbformat": 4,
  "nbformat_minor": 0,
  "metadata": {
    "colab": {
      "name": "CNN2D_bump_detection.ipynb",
      "provenance": []
    },
    "kernelspec": {
      "name": "python3",
      "display_name": "Python 3"
    }
  },
  "cells": [
    {
      "cell_type": "markdown",
      "metadata": {
        "id": "Ov2aYsS0gowV"
      },
      "source": [
        "# **Bumb Detection through CNN with Convalution2D**"
      ]
    },
    {
      "cell_type": "markdown",
      "metadata": {
        "id": "nPikMksMg7IO"
      },
      "source": [
        "# Importing the required Pakages"
      ]
    },
    {
      "cell_type": "code",
      "metadata": {
        "id": "ceT6aZD-eib4"
      },
      "source": [
        "import numpy as np \r\n",
        "import pandas as pd \r\n",
        "from numpy import asarray\r\n",
        "import tensorflow as tf\r\n",
        "from tensorflow import keras\r\n",
        "from tensorflow.keras.models import Sequential\r\n",
        "from tensorflow.keras.layers import Conv2D"
      ],
      "execution_count": 3,
      "outputs": []
    },
    {
      "cell_type": "markdown",
      "metadata": {
        "id": "WENpPWzsglmP"
      },
      "source": [
        ""
      ]
    },
    {
      "cell_type": "code",
      "metadata": {
        "id": "t261wamtejMm"
      },
      "source": [
        ""
      ],
      "execution_count": 3,
      "outputs": []
    },
    {
      "cell_type": "markdown",
      "metadata": {
        "id": "g_ZkfCp7enrP"
      },
      "source": [
        "# Assinging the data and Reshaping it \r\n",
        "\r\n"
      ]
    },
    {
      "cell_type": "code",
      "metadata": {
        "id": "CFWzZEgEcXFu"
      },
      "source": [
        "data = [[0, 0, 0, 1, 1, 0, 0, 0],\r\n",
        "\t\t[0, 0, 0, 1, 1, 0, 0, 0],\r\n",
        "\t\t[0, 0, 0, 1, 1, 0, 0, 0],\r\n",
        "\t\t[0, 0, 0, 1, 1, 0, 0, 0],\r\n",
        "\t\t[0, 0, 0, 1, 1, 0, 0, 0],\r\n",
        "\t\t[0, 0, 0, 1, 1, 0, 0, 0],\r\n",
        "\t\t[0, 0, 0, 1, 1, 0, 0, 0],\r\n",
        "\t\t[0, 0, 0, 1, 1, 0, 0, 0]]\r\n",
        "data = asarray(data)\r\n",
        "data = data.reshape(1,8,8,1)"
      ],
      "execution_count": 4,
      "outputs": []
    },
    {
      "cell_type": "markdown",
      "metadata": {
        "id": "mx0ifE2cf5sX"
      },
      "source": [
        "# define the Model\r\n",
        "# define the Conv2D with a single filter"
      ]
    },
    {
      "cell_type": "code",
      "metadata": {
        "id": "0X2hH-jOd5_I"
      },
      "source": [
        "model = Sequential()\r\n",
        "\r\n",
        "model.add(Conv2D(1,(3,3), input_shape=(8,8,1)))"
      ],
      "execution_count": 6,
      "outputs": []
    },
    {
      "cell_type": "code",
      "metadata": {
        "id": "Jv1uuqGLhIRO"
      },
      "source": [
        ""
      ],
      "execution_count": null,
      "outputs": []
    },
    {
      "cell_type": "markdown",
      "metadata": {
        "id": "BrkLuAKEhLUO"
      },
      "source": [
        "# Defining the detector"
      ]
    },
    {
      "cell_type": "code",
      "metadata": {
        "id": "6zr991F9gF6G"
      },
      "source": [
        "detector = [[[[0]],[[1]],[[0]]],\r\n",
        "            [[[0]],[[1]],[[0]]],\r\n",
        "            [[[0]],[[1]],[[0]]]]"
      ],
      "execution_count": 7,
      "outputs": []
    },
    {
      "cell_type": "markdown",
      "metadata": {
        "id": "pPlL0YPMgk03"
      },
      "source": [
        "# assigning the weight\r\n",
        "\r\n",
        "\r\n",
        "\r\n"
      ]
    },
    {
      "cell_type": "code",
      "metadata": {
        "id": "fdnysG1vmEUu"
      },
      "source": [
        "weight = [asarray(detector ), asarray([0.0])]"
      ],
      "execution_count": 8,
      "outputs": []
    },
    {
      "cell_type": "code",
      "metadata": {
        "colab": {
          "base_uri": "https://localhost:8080/"
        },
        "id": "MghFDOi7rDvV",
        "outputId": "81158522-f474-4298-c34f-72821fb7d5ed"
      },
      "source": [
        "# store the weight in the model \r\n",
        "\r\n",
        "model.set_weights(weight)\r\n",
        "print(model.get_weights())"
      ],
      "execution_count": 9,
      "outputs": [
        {
          "output_type": "stream",
          "text": [
            "[array([[[[0.]],\n",
            "\n",
            "        [[1.]],\n",
            "\n",
            "        [[0.]]],\n",
            "\n",
            "\n",
            "       [[[0.]],\n",
            "\n",
            "        [[1.]],\n",
            "\n",
            "        [[0.]]],\n",
            "\n",
            "\n",
            "       [[[0.]],\n",
            "\n",
            "        [[1.]],\n",
            "\n",
            "        [[0.]]]], dtype=float32), array([0.], dtype=float32)]\n"
          ],
          "name": "stdout"
        }
      ]
    },
    {
      "cell_type": "code",
      "metadata": {
        "colab": {
          "base_uri": "https://localhost:8080/"
        },
        "id": "nuYN1bAtraxV",
        "outputId": "357db235-9b84-48e1-bc43-1e5e0d8b26c6"
      },
      "source": [
        "#Apply filter to input data \r\n",
        "result = model.predict(data)\r\n",
        "for r in range(result.shape[1]):\r\n",
        "  print([result[0,r,c,0] for c in range(result.shape[2])])"
      ],
      "execution_count": 12,
      "outputs": [
        {
          "output_type": "stream",
          "text": [
            "[0.0, 0.0, 3.0, 3.0, 0.0, 0.0]\n",
            "[0.0, 0.0, 3.0, 3.0, 0.0, 0.0]\n",
            "[0.0, 0.0, 3.0, 3.0, 0.0, 0.0]\n",
            "[0.0, 0.0, 3.0, 3.0, 0.0, 0.0]\n",
            "[0.0, 0.0, 3.0, 3.0, 0.0, 0.0]\n",
            "[0.0, 0.0, 3.0, 3.0, 0.0, 0.0]\n"
          ],
          "name": "stdout"
        }
      ]
    },
    {
      "cell_type": "code",
      "metadata": {
        "id": "K7c-Fmtgrzod"
      },
      "source": [
        ""
      ],
      "execution_count": null,
      "outputs": []
    }
  ]
}